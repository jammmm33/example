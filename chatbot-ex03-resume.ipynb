{
 "cells": [
  {
   "cell_type": "markdown",
   "id": "6c02435e",
   "metadata": {},
   "source": [
    "# [문제] Managing Conversation History\n",
    "- trim_messages()\n",
    "- RunnablePassthrough\n",
    "- itemgetter()\n",
    "\n",
    "세션ID 설정하고, 대화를 진행합니다. (multi-turn conversation)  \n",
    "LLM 모델이 과거 대화를 알지(기억) 못하는 상황을 만드세요."
   ]
  },
  {
   "cell_type": "code",
   "execution_count": null,
   "id": "e002d1c7",
   "metadata": {},
   "outputs": [
    {
     "name": "stdout",
     "output_type": "stream",
     "text": [
      "이력서 작성 시, 먼저 자기소개부터 시작하는 것이 좋습니다. 이름, 연락처, 학력, 경력 등을 포함한 기본 정보를 명확하게 작성해야 해요. 이후에는 자신의 강점과 경험을 부각할 수 있는 섹션을 넣어야 해요. 경력이 있다면 해당 경험을 상세히 기술하고, 신입자라면 학창 시절의 프로젝트나 아르바이트 경일반적으로 이력서는 이메일을 통해 제출하거나 회사의 채용 포털에 온라인으로 업로드합니다. 제출 형식은 회사나 채용 정보에 따라 다르므로 필요 시 지원 공고를 참고하시기 바랍니다. 이메일로 제출할 경우는 제목에 '지원자 성함 - 지원 직무'와 같이 표기하고 본문에 간단한 자기소개와 이력서 파일을 첨부합니다. 온라인"
     ]
    }
   ],
   "source": [
    "## 1. 모듈 import\n",
    "from dotenv import load_dotenv\n",
    "from operator import itemgetter\n",
    "from langchain_openai import ChatOpenAI\n",
    "from langchain.callbacks.streaming_stdout import StreamingStdOutCallbackHandler\n",
    "from langchain_core.runnables.history import RunnableWithMessageHistory\n",
    "from langchain_core.runnables import RunnablePassthrough\n",
    "from langchain_core.prompts import ChatPromptTemplate\n",
    "from langchain_core.messages import trim_messages\n",
    "from langchain_core.chat_history import (\n",
    "    BaseChatMessageHistory, \n",
    "    InMemoryChatMessageHistory\n",
    ")\n",
    "\n",
    "\n",
    "## 2. .env 파일에서 환경변수 읽어오기\n",
    "load_dotenv()\n",
    "\n",
    "## 3. 세션별 대화 히스토리를 저장할 임시 메모리 저장소\n",
    "## type: dict \n",
    "store = {}\n",
    "\n",
    "## 4. 함수 정의: 세션 ID에 따라 대화 히스토리 반환\n",
    "def get_history(session_id: str) -> BaseChatMessageHistory:\n",
    "    if session_id not in store:\n",
    "        store[session_id] = InMemoryChatMessageHistory()\n",
    "    return store[session_id]\n",
    "\n",
    "## 5. prompt template 정의\n",
    "messages = [\n",
    "    ('system', '''당신은 이력서 작성 컨설턴트입니다.\n",
    "아래 정보를 바탕으로 지원자 입장에서 2000자 이내로 이력서를 작성합니다.\n",
    "문장은 자연스럽고 매끄럽게 작성합니다.'''),\n",
    "\t('placeholder', '{chat_history}'),\n",
    "\t('user', '{query}')\n",
    "]\n",
    "\n",
    "prompt = ChatPromptTemplate.from_messages(messages=messages)\n",
    "\n",
    "## 6. ChatOpenAI 인스턴스 생성: 모델 생성\n",
    "llm = ChatOpenAI(\n",
    "    model='gpt-3.5-turbo',\n",
    "    streaming=True,\n",
    "    callbacks=[StreamingStdOutCallbackHandler()],\n",
    ")\n",
    "\n",
    "\n",
    "## 7. trim 설정\n",
    "trimmer = trim_messages(\n",
    "    max_tokens = 60,\n",
    "    strategy = 'last',\n",
    "    include_system = True,\n",
    "    token_counter = llm,\n",
    "    allow_partial = False,\n",
    "    start_on = 'human',\n",
    ")\n",
    "\n",
    "## 8. chain 구성\n",
    "chain = ( RunnablePassthrough.assign(chat_history = itemgetter('chat_history') | trimmer)\n",
    "    | prompt \n",
    "    | llm )\n",
    "\n",
    "## 9. chain에 대화 히스토리 기능을 래핑해서 추가\n",
    "with_message_history = RunnableWithMessageHistory(\n",
    "    chain,\n",
    "    get_history,\n",
    "    input_messages_key='query',\n",
    "    history_messages_key='chat_history'\n",
    ")\n",
    "\n",
    "## 10. chain 실행\n",
    "while True:\n",
    "    query = input('이력서 작성 컨설턴트입니다. 질문하세요. [종료: S] >>> ')\n",
    "\n",
    "    if query.upper() == 'S':\n",
    "        break\n",
    "\n",
    "    with_message_history.invoke(\n",
    "        {'query': query},\n",
    "        config={'configurable': {'session_id': '1234'}}      \n",
    "    )"
   ]
  },
  {
   "cell_type": "code",
   "execution_count": null,
   "id": "6a40bb5c",
   "metadata": {},
   "outputs": [
    {
     "name": "stdout",
     "output_type": "stream",
     "text": [
      "['HUMAN']: 이력서 작성은 어떻게 해?\n",
      "\n",
      "['AI']: 이력서 작성 시, 먼저 자기소개부터 시작하는 것이 좋습니다. 이름, 연락처, 학력, 경력 등을 포함한 기본 정보를 명확하게 작성해야 해요. 이후에는 자신의 강점과 경험을 부각할 수 있는 섹션을 넣어야 해요. 경력이 있다면 해당 경험을 상세히 기술하고, 신입자라면 학창 시절의 프로젝트나 아르바이트 경\n",
      "\n",
      "['HUMAN']: 이력서는 어떻게 제출해?\n",
      "\n",
      "['AI']: 일반적으로 이력서는 이메일을 통해 제출하거나 회사의 채용 포털에 온라인으로 업로드합니다. 제출 형식은 회사나 채용 정보에 따라 다르므로 필요 시 지원 공고를 참고하시기 바랍니다. 이메일로 제출할 경우는 제목에 '지원자 성함 - 지원 직무'와 같이 표기하고 본문에 간단한 자기소개와 이력서 파일을 첨부합니다. 온라인\n",
      "\n"
     ]
    }
   ],
   "source": [
    "for info in get_history('1234').messages:\n",
    "    print(f'{[info.type.upper()]}: {info.content}\\n'),"
   ]
  }
 ],
 "metadata": {
  "kernelspec": {
   "display_name": "project",
   "language": "python",
   "name": "python3"
  },
  "language_info": {
   "codemirror_mode": {
    "name": "ipython",
    "version": 3
   },
   "file_extension": ".py",
   "mimetype": "text/x-python",
   "name": "python",
   "nbconvert_exporter": "python",
   "pygments_lexer": "ipython3",
   "version": "3.10.12"
  }
 },
 "nbformat": 4,
 "nbformat_minor": 5
}
